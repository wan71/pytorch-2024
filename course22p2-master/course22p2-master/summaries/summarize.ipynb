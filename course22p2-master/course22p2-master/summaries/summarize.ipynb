{
 "cells": [
  {
   "cell_type": "markdown",
   "id": "10905829",
   "metadata": {},
   "source": [
    "This notebook was used by Jeremy to create summaries of all the lesson transcripts."
   ]
  },
  {
   "cell_type": "code",
   "execution_count": null,
   "id": "17394e69",
   "metadata": {},
   "outputs": [],
   "source": [
    "import requests,sys,time,os,openai\n",
    "from pathlib import Path"
   ]
  },
  {
   "cell_type": "code",
   "execution_count": null,
   "id": "8d5c7080",
   "metadata": {},
   "outputs": [],
   "source": [
    "openai.api_key = os.getenv(\"OPENAI_API_KEY\")"
   ]
  },
  {
   "cell_type": "code",
   "execution_count": null,
   "id": "c0e382c3",
   "metadata": {},
   "outputs": [],
   "source": [
    "def prompt(s,p, mx=512, max_retries=3):\n",
    "    m=[{\"role\": \"system\", \"content\": s}, {\"role\": \"user\", \"content\": p}]\n",
    "    for attempt in range(1, max_retries + 1):\n",
    "        try:\n",
    "            res = openai.ChatCompletion.create(messages=m, model=\"gpt-4\", temperature=0.2, top_p=0.2, max_tokens=mx)\n",
    "            print(res['usage'])\n",
    "            return res['choices'][0]['message']['content']\n",
    "        except openai.error.RateLimitError as e:\n",
    "            if attempt < max_retries:\n",
    "                retry_after = int(e.headers.get(\"Retry-After\", 1))  # Use the Retry-After header or default to 1 second\n",
    "                print(f\"429 error: Too Many Requests. Retrying in {retry_after} seconds (Attempt {attempt}/{max_retries})\")\n",
    "                time.sleep(retry_after)\n",
    "            else: raise"
   ]
  },
  {
   "cell_type": "code",
   "execution_count": null,
   "id": "9b168f48",
   "metadata": {},
   "outputs": [],
   "source": [
    "# prompt(\"Just testing\", \"Is this thing on?\", 100)"
   ]
  },
  {
   "cell_type": "code",
   "execution_count": null,
   "id": "1bf359e5",
   "metadata": {},
   "outputs": [],
   "source": [
    "def txt_rng(x):\n",
    "    s = x.split(' ')\n",
    "    c = len(s)\n",
    "    j = len(' '.join(s[:4000]))\n",
    "    if j>len(x)-100: return len(x)\n",
    "    t = x[:j]\n",
    "    return len(t) - t[-1:0:-1].find(' .') - 1"
   ]
  },
  {
   "cell_type": "code",
   "execution_count": null,
   "id": "d1e147ce",
   "metadata": {},
   "outputs": [],
   "source": [
    "fn = Path('lesson09.txt')\n",
    "txt = fn.read_text()"
   ]
  },
  {
   "cell_type": "code",
   "execution_count": null,
   "id": "cbefa163",
   "metadata": {},
   "outputs": [
    {
     "data": {
      "text/plain": [
       "(79698, 20450)"
      ]
     },
     "execution_count": null,
     "metadata": {},
     "output_type": "execute_result"
    }
   ],
   "source": [
    "len(txt),txt_rng(txt)"
   ]
  },
  {
   "cell_type": "code",
   "execution_count": null,
   "id": "1bdd3a8c",
   "metadata": {},
   "outputs": [],
   "source": [
    "def summs(fn):\n",
    "    fn = Path(fn)\n",
    "    x = fn.read_text()\n",
    "    i,res = 0,''\n",
    "    while len(x)>50:\n",
    "        j = txt_rng(x)\n",
    "        if i==0: pre='The text contains the transcript of the first section of a video lesson. There are other later parts not included in the text.'\n",
    "        elif j>=len(x)-50: pre='The text contains the last section of a video lesson. There are other earlier parts not included in the text.'\n",
    "        else: pre='The text contains the middle section of a video lesson. There are other earlier and later parts not included in the text.'\n",
    "        pre += ' Summarise the section of the lesson in the text in 3-4 paragraphs.\\n\\ntext:\\n\\n'\n",
    "        res += prompt(s_s, pre + x[:j])\n",
    "        print(i,len(x[:j]), len(x), len(x[:j].split()))\n",
    "#         print(pre)\n",
    "        x = x[j+1:]\n",
    "        i=j\n",
    "#         time.sleep(1)\n",
    "    with open(fn.stem + f\"-summ0.txt\", \"w\") as f: f.write(res)\n",
    "    return res"
   ]
  },
  {
   "cell_type": "code",
   "execution_count": null,
   "id": "929430de",
   "metadata": {},
   "outputs": [],
   "source": [
    "files = ('lesson11.txt','lesson12.txt','lesson13.txt','lesson14.txt','lesson15.txt','lesson16.txt','lesson17.txt','lesson18.txt',\n",
    "         'lesson19.txt','lesson20.txt','lesson21.txt','lesson22.txt','lesson23.txt','lesson24.txt')"
   ]
  },
  {
   "cell_type": "code",
   "execution_count": null,
   "id": "5ed2645f",
   "metadata": {},
   "outputs": [],
   "source": [
    "for f in files: summs(f)"
   ]
  },
  {
   "cell_type": "code",
   "execution_count": null,
   "id": "20abd6e6",
   "metadata": {},
   "outputs": [],
   "source": [
    "j_s = \"\"\"You are an AI language model trained to summarise the fast.ai lesson taught by Jeremy Howard \n",
    "described in the input. First, you provide a 2-4 word descriptive title as a markdown heading.\n",
    "Then you provide a 3-4 paragraph summary of the text written in in an informal style like Jeremy Howard -- here is a sample of his style:\n",
    "\"Today we finish off our study of collaborative filtering by looking closely at embeddings—a critical building block of many\n",
    "deep learning algorithms. Then we’ll dive into convolutional neural networks (CNNs) and see how they really work. We’ve used\n",
    "plenty of CNNs through this course, but we haven’t peeked inside them to see what’s really going on in there. \n",
    "As well as learning about their most fundamental building block, the convolution, we’ll also look at pooling, dropout, and more.\"\n",
    "Finally you provide a list of all the key skills and concepts taught in the lesson, formatted as a markdown list.\"\"\""
   ]
  },
  {
   "cell_type": "code",
   "execution_count": null,
   "id": "dfdcb0af",
   "metadata": {},
   "outputs": [],
   "source": [
    "files = ('lesson13-summ0.txt','lesson14-summ0.txt','lesson15-summ0.txt','lesson16-summ0.txt','lesson17-summ0.txt','lesson18-summ0.txt',\n",
    "         'lesson19-summ0.txt','lesson20-summ0.txt','lesson21-summ0.txt','lesson22-summ0.txt','lesson23-summ0.txt','lesson24-summ0.txt')\n",
    "\n",
    "for f in files:\n",
    "    print('--',f,'--')\n",
    "    print(prompt(j_s, Path(f).read_text()))"
   ]
  },
  {
   "cell_type": "code",
   "execution_count": null,
   "id": "46ae80ab",
   "metadata": {},
   "outputs": [],
   "source": [
    "s_s = \"You are a system for creating summaries of input text. You do not produce any output other than the summary requested by the user.\""
   ]
  },
  {
   "cell_type": "code",
   "execution_count": null,
   "id": "f7f692c6",
   "metadata": {},
   "outputs": [],
   "source": []
  }
 ],
 "metadata": {
  "kernelspec": {
   "display_name": "python3",
   "language": "python",
   "name": "python3"
  }
 },
 "nbformat": 4,
 "nbformat_minor": 5
}
